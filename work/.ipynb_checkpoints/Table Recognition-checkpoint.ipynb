{
 "cells": [
  {
   "cell_type": "code",
   "execution_count": 1,
   "metadata": {},
   "outputs": [
    {
     "data": {
      "text/plain": [
       "<Figure size 640x480 with 1 Axes>"
      ]
     },
     "metadata": {},
     "output_type": "display_data"
    },
    {
     "data": {
      "text/plain": [
       "<Figure size 640x480 with 1 Axes>"
      ]
     },
     "metadata": {},
     "output_type": "display_data"
    },
    {
     "data": {
      "text/plain": [
       "<Figure size 640x480 with 1 Axes>"
      ]
     },
     "metadata": {},
     "output_type": "display_data"
    },
    {
     "data": {
      "text/plain": [
       "<Figure size 640x480 with 1 Axes>"
      ]
     },
     "metadata": {},
     "output_type": "display_data"
    },
    {
     "data": {
      "text/plain": [
       "<Figure size 640x480 with 1 Axes>"
      ]
     },
     "metadata": {},
     "output_type": "display_data"
    }
   ],
   "source": [
    "import cv2\n",
    "import numpy as np\n",
    "import matplotlib.pyplot as plt\n",
    "import matplotlib.image as mpimg\n",
    "\n",
    "\n",
    "def _get_kernel(theta) -> float:\n",
    "    ksize = 31\n",
    "    return cv2.getGaborKernel((ksize, ksize), 4.0, theta, 10.0, 0.5, 0, ktype=cv2.CV_32F)\n",
    "\n",
    "    \n",
    "def filter_image(img, theta=np.pi):\n",
    "    kernel = _get_kernel(theta)\n",
    "    img_filtered = cv2.filter2D(img, cv2.CV_8UC3, kernel)\n",
    "    return cv2.cvtColor(img_filtered, cv2.COLOR_BGR2GRAY)\n",
    "\n",
    "\n",
    "def load_image(path: str):\n",
    "    return cv2.imread(path)\n",
    "\n",
    "\n",
    "def binarize_image(img):   \n",
    "    ret, img_binarized = cv2.threshold(img, 0, 255, cv2.THRESH_OTSU)\n",
    "    return img_binarized\n",
    "\n",
    "    \n",
    "def show_image(img, title=\"\") -> None:\n",
    "    plt.imshow(img)\n",
    "    plt.title(title)\n",
    "    plt.show()\n",
    "    \n",
    "\n",
    "def run():\n",
    "    img = load_image('./assets/scan--no-borders.png')\n",
    "    print(img.shape)\n",
    "    show_image(img, \"Original\")\n",
    "    \n",
    "    img_filtered = filter_image(img, theta=np.pi)\n",
    "    show_image(img_filtered, \"Filtered Image with Vertical Lines\")\n",
    "    \n",
    "    img_binarized = binarize_image(img_filtered.copy())\n",
    "    show_image(img_binarized, \"Binarized Image with Vertical Lines\")\n",
    "    \n",
    "    img_filtered = filter_image(img, theta=np.pi/2)\n",
    "    show_image(img_filtered, \"Filtered Image with Horizontal Lines\")\n",
    "    \n",
    "    img_binarized = binarize_image(img_filtered.copy())\n",
    "    show_image(img_binarized, \"Binarized Image with Horizontal Lines\")\n",
    "    \n",
    "    \n",
    "run()"
   ]
  },
  {
   "cell_type": "code",
   "execution_count": null,
   "metadata": {},
   "outputs": [],
   "source": []
  }
 ],
 "metadata": {
  "kernelspec": {
   "display_name": "Python 3",
   "language": "python",
   "name": "python3"
  },
  "language_info": {
   "codemirror_mode": {
    "name": "ipython",
    "version": 3
   },
   "file_extension": ".py",
   "mimetype": "text/x-python",
   "name": "python",
   "nbconvert_exporter": "python",
   "pygments_lexer": "ipython3",
   "version": "3.7.3"
  }
 },
 "nbformat": 4,
 "nbformat_minor": 2
}
